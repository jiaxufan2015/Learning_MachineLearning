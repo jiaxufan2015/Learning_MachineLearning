{
 "cells": [
  {
   "cell_type": "code",
   "execution_count": 133,
   "metadata": {
    "collapsed": true,
    "deletable": true,
    "editable": true
   },
   "outputs": [],
   "source": [
    "import numpy as np\n",
    "import matplotlib \n",
    "import matplotlib.pyplot as plt\n",
    "\n"
   ]
  },
  {
   "cell_type": "code",
   "execution_count": 134,
   "metadata": {
    "collapsed": false,
    "deletable": true,
    "editable": true
   },
   "outputs": [],
   "source": [
    "#import other packages along the work\n",
    "import pandas as pd\n",
    "from sklearn import model_selection"
   ]
  },
  {
   "cell_type": "code",
   "execution_count": 135,
   "metadata": {
    "collapsed": true
   },
   "outputs": [],
   "source": [
    "from sklearn import svm"
   ]
  },
  {
   "cell_type": "code",
   "execution_count": 136,
   "metadata": {
    "collapsed": true
   },
   "outputs": [],
   "source": [
    "from sklearn import metrics"
   ]
  },
  {
   "cell_type": "code",
   "execution_count": 137,
   "metadata": {
    "collapsed": true,
    "deletable": true,
    "editable": true
   },
   "outputs": [],
   "source": [
    "pd.read_csv?"
   ]
  },
  {
   "cell_type": "code",
   "execution_count": 138,
   "metadata": {
    "collapsed": true,
    "deletable": true,
    "editable": true
   },
   "outputs": [],
   "source": [
    "data = pd.read_csv('~/desktop/train_data_label.csv', header=None)"
   ]
  },
  {
   "cell_type": "code",
   "execution_count": 139,
   "metadata": {
    "collapsed": false,
    "deletable": true,
    "editable": true
   },
   "outputs": [
    {
     "data": {
      "text/html": [
       "<div>\n",
       "<style>\n",
       "    .dataframe thead tr:only-child th {\n",
       "        text-align: right;\n",
       "    }\n",
       "\n",
       "    .dataframe thead th {\n",
       "        text-align: left;\n",
       "    }\n",
       "\n",
       "    .dataframe tbody tr th {\n",
       "        vertical-align: top;\n",
       "    }\n",
       "</style>\n",
       "<table border=\"1\" class=\"dataframe\">\n",
       "  <thead>\n",
       "    <tr style=\"text-align: right;\">\n",
       "      <th></th>\n",
       "      <th>0</th>\n",
       "      <th>1</th>\n",
       "      <th>2</th>\n",
       "      <th>3</th>\n",
       "      <th>4</th>\n",
       "      <th>5</th>\n",
       "      <th>6</th>\n",
       "      <th>7</th>\n",
       "      <th>8</th>\n",
       "      <th>9</th>\n",
       "      <th>...</th>\n",
       "      <th>2670</th>\n",
       "      <th>2671</th>\n",
       "      <th>2672</th>\n",
       "      <th>2673</th>\n",
       "      <th>2674</th>\n",
       "      <th>2675</th>\n",
       "      <th>2676</th>\n",
       "      <th>2677</th>\n",
       "      <th>2678</th>\n",
       "      <th>2679</th>\n",
       "    </tr>\n",
       "  </thead>\n",
       "  <tbody>\n",
       "    <tr>\n",
       "      <th>155</th>\n",
       "      <td>0.096954</td>\n",
       "      <td>0.104114</td>\n",
       "      <td>0.129995</td>\n",
       "      <td>0.120837</td>\n",
       "      <td>0.096787</td>\n",
       "      <td>0.122211</td>\n",
       "      <td>0.139523</td>\n",
       "      <td>0.125896</td>\n",
       "      <td>0.166721</td>\n",
       "      <td>0.140888</td>\n",
       "      <td>...</td>\n",
       "      <td>0.134281</td>\n",
       "      <td>0.139502</td>\n",
       "      <td>0.137652</td>\n",
       "      <td>0.144018</td>\n",
       "      <td>0.142585</td>\n",
       "      <td>0.142585</td>\n",
       "      <td>0.147111</td>\n",
       "      <td>0.146961</td>\n",
       "      <td>0.146184</td>\n",
       "      <td>3.0</td>\n",
       "    </tr>\n",
       "    <tr>\n",
       "      <th>156</th>\n",
       "      <td>0.120660</td>\n",
       "      <td>0.121951</td>\n",
       "      <td>0.106975</td>\n",
       "      <td>0.151167</td>\n",
       "      <td>0.200470</td>\n",
       "      <td>0.097305</td>\n",
       "      <td>0.110613</td>\n",
       "      <td>0.124963</td>\n",
       "      <td>0.144020</td>\n",
       "      <td>0.115947</td>\n",
       "      <td>...</td>\n",
       "      <td>0.168379</td>\n",
       "      <td>0.161845</td>\n",
       "      <td>0.122256</td>\n",
       "      <td>0.096178</td>\n",
       "      <td>0.094329</td>\n",
       "      <td>0.094510</td>\n",
       "      <td>0.106879</td>\n",
       "      <td>0.150990</td>\n",
       "      <td>0.218653</td>\n",
       "      <td>2.0</td>\n",
       "    </tr>\n",
       "    <tr>\n",
       "      <th>157</th>\n",
       "      <td>0.091374</td>\n",
       "      <td>0.136733</td>\n",
       "      <td>0.127285</td>\n",
       "      <td>0.096850</td>\n",
       "      <td>0.106514</td>\n",
       "      <td>0.144915</td>\n",
       "      <td>0.115551</td>\n",
       "      <td>0.089738</td>\n",
       "      <td>0.118095</td>\n",
       "      <td>0.131321</td>\n",
       "      <td>...</td>\n",
       "      <td>0.140063</td>\n",
       "      <td>0.125685</td>\n",
       "      <td>0.105914</td>\n",
       "      <td>0.093900</td>\n",
       "      <td>0.098724</td>\n",
       "      <td>0.107543</td>\n",
       "      <td>0.103889</td>\n",
       "      <td>0.090168</td>\n",
       "      <td>0.087490</td>\n",
       "      <td>2.0</td>\n",
       "    </tr>\n",
       "    <tr>\n",
       "      <th>158</th>\n",
       "      <td>0.117788</td>\n",
       "      <td>0.106581</td>\n",
       "      <td>0.107678</td>\n",
       "      <td>0.121217</td>\n",
       "      <td>0.125707</td>\n",
       "      <td>0.142990</td>\n",
       "      <td>0.133872</td>\n",
       "      <td>0.123312</td>\n",
       "      <td>0.149970</td>\n",
       "      <td>0.198102</td>\n",
       "      <td>...</td>\n",
       "      <td>0.132343</td>\n",
       "      <td>0.126823</td>\n",
       "      <td>0.093065</td>\n",
       "      <td>0.083223</td>\n",
       "      <td>0.084958</td>\n",
       "      <td>0.083679</td>\n",
       "      <td>0.084177</td>\n",
       "      <td>0.088942</td>\n",
       "      <td>0.109900</td>\n",
       "      <td>2.0</td>\n",
       "    </tr>\n",
       "    <tr>\n",
       "      <th>159</th>\n",
       "      <td>0.089404</td>\n",
       "      <td>0.099978</td>\n",
       "      <td>0.212427</td>\n",
       "      <td>0.093207</td>\n",
       "      <td>0.103728</td>\n",
       "      <td>0.095315</td>\n",
       "      <td>0.120039</td>\n",
       "      <td>0.095794</td>\n",
       "      <td>0.109594</td>\n",
       "      <td>0.093217</td>\n",
       "      <td>...</td>\n",
       "      <td>0.086574</td>\n",
       "      <td>0.088420</td>\n",
       "      <td>0.086574</td>\n",
       "      <td>0.086783</td>\n",
       "      <td>0.084898</td>\n",
       "      <td>0.084898</td>\n",
       "      <td>0.086335</td>\n",
       "      <td>0.087200</td>\n",
       "      <td>0.089780</td>\n",
       "      <td>4.0</td>\n",
       "    </tr>\n",
       "  </tbody>\n",
       "</table>\n",
       "<p>5 rows × 2680 columns</p>\n",
       "</div>"
      ],
      "text/plain": [
       "         0         1         2         3         4         5         6     \\\n",
       "155  0.096954  0.104114  0.129995  0.120837  0.096787  0.122211  0.139523   \n",
       "156  0.120660  0.121951  0.106975  0.151167  0.200470  0.097305  0.110613   \n",
       "157  0.091374  0.136733  0.127285  0.096850  0.106514  0.144915  0.115551   \n",
       "158  0.117788  0.106581  0.107678  0.121217  0.125707  0.142990  0.133872   \n",
       "159  0.089404  0.099978  0.212427  0.093207  0.103728  0.095315  0.120039   \n",
       "\n",
       "         7         8         9     ...       2670      2671      2672  \\\n",
       "155  0.125896  0.166721  0.140888  ...   0.134281  0.139502  0.137652   \n",
       "156  0.124963  0.144020  0.115947  ...   0.168379  0.161845  0.122256   \n",
       "157  0.089738  0.118095  0.131321  ...   0.140063  0.125685  0.105914   \n",
       "158  0.123312  0.149970  0.198102  ...   0.132343  0.126823  0.093065   \n",
       "159  0.095794  0.109594  0.093217  ...   0.086574  0.088420  0.086574   \n",
       "\n",
       "         2673      2674      2675      2676      2677      2678  2679  \n",
       "155  0.144018  0.142585  0.142585  0.147111  0.146961  0.146184   3.0  \n",
       "156  0.096178  0.094329  0.094510  0.106879  0.150990  0.218653   2.0  \n",
       "157  0.093900  0.098724  0.107543  0.103889  0.090168  0.087490   2.0  \n",
       "158  0.083223  0.084958  0.083679  0.084177  0.088942  0.109900   2.0  \n",
       "159  0.086783  0.084898  0.084898  0.086335  0.087200  0.089780   4.0  \n",
       "\n",
       "[5 rows x 2680 columns]"
      ]
     },
     "execution_count": 139,
     "metadata": {},
     "output_type": "execute_result"
    }
   ],
   "source": [
    "data.head()\n",
    "data.tail()"
   ]
  },
  {
   "cell_type": "code",
   "execution_count": 140,
   "metadata": {
    "collapsed": false,
    "deletable": true,
    "editable": true
   },
   "outputs": [],
   "source": [
    "X = data.iloc[:, :-1]\n",
    "y = data.iloc[:, -1]"
   ]
  },
  {
   "cell_type": "code",
   "execution_count": 141,
   "metadata": {
    "collapsed": true
   },
   "outputs": [],
   "source": [
    "data_ = data.as_matrix()"
   ]
  },
  {
   "cell_type": "code",
   "execution_count": 142,
   "metadata": {
    "collapsed": true
   },
   "outputs": [],
   "source": [
    "data_shuffled = data_.copy()"
   ]
  },
  {
   "cell_type": "code",
   "execution_count": 143,
   "metadata": {
    "collapsed": false
   },
   "outputs": [],
   "source": [
    "np.random.shuffle(data_shuffled)"
   ]
  },
  {
   "cell_type": "code",
   "execution_count": 144,
   "metadata": {
    "collapsed": false
   },
   "outputs": [],
   "source": [
    "data_hold_out = data_shuffled[:round(data_shuffled.shape[0]/10)]\n",
    "data_to_use = data_shuffled[round(data_shuffled.shape[0]/10):]"
   ]
  },
  {
   "cell_type": "code",
   "execution_count": 145,
   "metadata": {
    "collapsed": false,
    "deletable": true,
    "editable": true
   },
   "outputs": [],
   "source": [
    "X1 = data_to_use[:, :-1]\n",
    "y1 = data_to_use[:, -1]"
   ]
  },
  {
   "cell_type": "code",
   "execution_count": 146,
   "metadata": {
    "collapsed": true
   },
   "outputs": [],
   "source": [
    "X_hold_out = data_hold_out[:, :-1]\n",
    "y_hold_out = data_hold_out[:, -1]"
   ]
  },
  {
   "cell_type": "code",
   "execution_count": 147,
   "metadata": {
    "collapsed": true
   },
   "outputs": [],
   "source": [
    "# Now let's try to use DataFrame only\n",
    "data_random = data.sample(frac=1).reset_index(drop=True)"
   ]
  },
  {
   "cell_type": "code",
   "execution_count": 148,
   "metadata": {
    "collapsed": false
   },
   "outputs": [],
   "source": [
    "X2 = data_random.iloc[:, :-1]\n",
    "y2 = data_random.iloc[:, -1]"
   ]
  },
  {
   "cell_type": "code",
   "execution_count": 149,
   "metadata": {
    "collapsed": false
   },
   "outputs": [],
   "source": [
    "lsvc = svm.LinearSVC()"
   ]
  },
  {
   "cell_type": "code",
   "execution_count": 150,
   "metadata": {
    "collapsed": false
   },
   "outputs": [
    {
     "data": {
      "text/plain": [
       "LinearSVC(C=1.0, class_weight=None, dual=True, fit_intercept=True,\n",
       "     intercept_scaling=1, loss='squared_hinge', max_iter=1000,\n",
       "     multi_class='ovr', penalty='l2', random_state=None, tol=0.0001,\n",
       "     verbose=0)"
      ]
     },
     "execution_count": 150,
     "metadata": {},
     "output_type": "execute_result"
    }
   ],
   "source": [
    "lsvc.fit(X=X2, y=y2)"
   ]
  },
  {
   "cell_type": "code",
   "execution_count": 151,
   "metadata": {
    "collapsed": false
   },
   "outputs": [
    {
     "data": {
      "text/plain": [
       "array([ 2.,  2.,  4.,  1.,  4.,  2.,  4.,  1.,  4.,  4.,  3.,  1.,  2.,\n",
       "        3.,  1.,  2.,  4.,  2.,  1.,  1.,  1.,  2.,  3.,  3.,  4.,  3.,\n",
       "        3.,  4.,  1.,  3.,  1.,  1.,  2.,  4.,  4.,  3.,  3.,  2.,  3.,  2.])"
      ]
     },
     "execution_count": 151,
     "metadata": {},
     "output_type": "execute_result"
    }
   ],
   "source": [
    "lsvc.predict(X_new)"
   ]
  },
  {
   "cell_type": "code",
   "execution_count": 152,
   "metadata": {
    "collapsed": true,
    "deletable": true,
    "editable": true
   },
   "outputs": [],
   "source": [
    "svc = svm.LinearSVC()"
   ]
  },
  {
   "cell_type": "code",
   "execution_count": 153,
   "metadata": {
    "collapsed": true
   },
   "outputs": [],
   "source": [
    "from sklearn import neighbors"
   ]
  },
  {
   "cell_type": "code",
   "execution_count": 154,
   "metadata": {
    "collapsed": false,
    "deletable": true,
    "editable": true
   },
   "outputs": [
    {
     "data": {
      "text/plain": [
       "0.99230769230769234"
      ]
     },
     "execution_count": 154,
     "metadata": {},
     "output_type": "execute_result"
    }
   ],
   "source": [
    "# accuracy of LinearSVC\n",
    "lsvc = svm.LinearSVC()\n",
    "score = model_selection.cross_val_score(estimator=lsvc, X=X1, y=y1, scoring='accuracy', cv=10)\n",
    "score.mean()"
   ]
  },
  {
   "cell_type": "code",
   "execution_count": 155,
   "metadata": {
    "collapsed": false,
    "deletable": true,
    "editable": true
   },
   "outputs": [
    {
     "data": {
      "text/plain": [
       "array([ 1.,  2.,  2.,  2.,  3.,  1.,  3.,  2.,  2.,  3.,  3.,  3.,  4.,\n",
       "        4.,  4.,  1.])"
      ]
     },
     "execution_count": 155,
     "metadata": {},
     "output_type": "execute_result"
    }
   ],
   "source": [
    "# test on the hold_out\n",
    "lsvc.fit(X=X1, y=y1)\n",
    "y_hold_out_pred = lsvc.predict(X_hold_out)\n",
    "y_hold_out_pred"
   ]
  },
  {
   "cell_type": "code",
   "execution_count": 156,
   "metadata": {
    "collapsed": true
   },
   "outputs": [],
   "source": [
    "data_new = pd.read_csv('~/desktop/test_data.csv', header=None)\n",
    "X_new = data_new.as_matrix()"
   ]
  },
  {
   "cell_type": "code",
   "execution_count": 157,
   "metadata": {
    "collapsed": false
   },
   "outputs": [
    {
     "data": {
      "text/plain": [
       "array([ 2.,  2.,  4.,  1.,  4.,  2.,  4.,  1.,  4.,  4.,  3.,  1.,  2.,\n",
       "        3.,  1.,  2.,  4.,  2.,  1.,  1.,  1.,  2.,  3.,  3.,  4.,  3.,\n",
       "        3.,  4.,  1.,  3.,  1.,  1.,  2.,  4.,  4.,  3.,  3.,  2.,  3.,  2.])"
      ]
     },
     "execution_count": 157,
     "metadata": {},
     "output_type": "execute_result"
    }
   ],
   "source": [
    "y_pred = lsvc.predict(X_new)\n",
    "y_pred"
   ]
  },
  {
   "cell_type": "code",
   "execution_count": 158,
   "metadata": {
    "collapsed": false
   },
   "outputs": [],
   "source": [
    "np.savetxt(fname='pred_result.csv', X=y_pred, delimiter=',')"
   ]
  },
  {
   "cell_type": "code",
   "execution_count": 159,
   "metadata": {
    "collapsed": false
   },
   "outputs": [
    {
     "data": {
      "text/plain": [
       "array([ 1.,  2.,  2.,  2.,  3.,  1.,  3.,  2.,  2.,  3.,  3.,  3.,  4.,\n",
       "        4.,  4.,  2.])"
      ]
     },
     "execution_count": 159,
     "metadata": {},
     "output_type": "execute_result"
    }
   ],
   "source": [
    "y_hold_out"
   ]
  },
  {
   "cell_type": "code",
   "execution_count": 160,
   "metadata": {
    "collapsed": false
   },
   "outputs": [
    {
     "data": {
      "text/plain": [
       "array([[2, 0, 0, 0],\n",
       "       [1, 5, 0, 0],\n",
       "       [0, 0, 5, 0],\n",
       "       [0, 0, 0, 3]])"
      ]
     },
     "execution_count": 160,
     "metadata": {},
     "output_type": "execute_result"
    }
   ],
   "source": [
    "metrics.confusion_matrix(y_pred=y_hold_out_pred, y_true=y_hold_out)"
   ]
  },
  {
   "cell_type": "code",
   "execution_count": 161,
   "metadata": {
    "collapsed": false
   },
   "outputs": [
    {
     "data": {
      "text/plain": [
       "0.9375"
      ]
     },
     "execution_count": 161,
     "metadata": {},
     "output_type": "execute_result"
    }
   ],
   "source": [
    "metrics.accuracy_score(y_pred=y_hold_out_pred, y_true=y_hold_out)"
   ]
  },
  {
   "cell_type": "code",
   "execution_count": 162,
   "metadata": {
    "collapsed": false,
    "deletable": true,
    "editable": true
   },
   "outputs": [
    {
     "data": {
      "text/plain": [
       "0.99230769230769234"
      ]
     },
     "execution_count": 162,
     "metadata": {},
     "output_type": "execute_result"
    }
   ],
   "source": [
    "score.mean()"
   ]
  },
  {
   "cell_type": "code",
   "execution_count": 163,
   "metadata": {
    "collapsed": false
   },
   "outputs": [
    {
     "data": {
      "text/plain": [
       "0.37518315018315018"
      ]
     },
     "execution_count": 163,
     "metadata": {},
     "output_type": "execute_result"
    }
   ],
   "source": [
    "# accuracy of SVC\n",
    "svc_ = svm.SVC()\n",
    "score = model_selection.cross_val_score(estimator=svc_, X=X1, y=y1, scoring='accuracy', cv=10)\n",
    "score.mean()"
   ]
  },
  {
   "cell_type": "code",
   "execution_count": 164,
   "metadata": {
    "collapsed": true,
    "deletable": true,
    "editable": true
   },
   "outputs": [],
   "source": [
    "knn1 = neighbors.KNeighborsClassifier(n_neighbors=13)"
   ]
  },
  {
   "cell_type": "code",
   "execution_count": 165,
   "metadata": {
    "collapsed": true,
    "deletable": true,
    "editable": true
   },
   "outputs": [],
   "source": [
    "knn2 = neighbors.KNeighborsClassifier"
   ]
  },
  {
   "cell_type": "code",
   "execution_count": 166,
   "metadata": {
    "collapsed": false,
    "deletable": true,
    "editable": true,
    "run_control": {
     "marked": true
    }
   },
   "outputs": [
    {
     "data": {
      "text/plain": [
       "0.99166666666666659"
      ]
     },
     "execution_count": 166,
     "metadata": {},
     "output_type": "execute_result"
    }
   ],
   "source": [
    "# accuracy of knn, n=20\n",
    "score1 = model_selection.cross_val_score(estimator=knn1, X=X1, y=y1, scoring='accuracy', cv=10)\n",
    "score1.mean()"
   ]
  },
  {
   "cell_type": "code",
   "execution_count": 167,
   "metadata": {
    "collapsed": false,
    "deletable": true,
    "editable": true,
    "run_control": {
     "marked": true
    }
   },
   "outputs": [],
   "source": [
    "# Scores of knn with 1~30 neighbors, 13 is the best.\n",
    "Scores = []\n",
    "for n in range(1, 31):\n",
    "    knn_ = neighbors.KNeighborsClassifier(n_neighbors=n)\n",
    "    score_mean = model_selection.cross_val_score(estimator=knn_, X=X, y=y, scoring='accuracy', cv=10).mean()\n",
    "    Scores.append(score_mean)\n",
    "   \n"
   ]
  },
  {
   "cell_type": "code",
   "execution_count": 168,
   "metadata": {
    "collapsed": false
   },
   "outputs": [
    {
     "data": {
      "text/plain": [
       "[1.0,\n",
       " 0.99375000000000002,\n",
       " 0.99375000000000002,\n",
       " 0.98750000000000004,\n",
       " 0.98750000000000004,\n",
       " 0.98750000000000004,\n",
       " 0.98750000000000004,\n",
       " 0.98750000000000004,\n",
       " 0.98750000000000004,\n",
       " 0.98750000000000004,\n",
       " 0.98750000000000004,\n",
       " 0.98750000000000004,\n",
       " 0.98750000000000004,\n",
       " 0.98124999999999996,\n",
       " 0.98124999999999996,\n",
       " 0.98124999999999996,\n",
       " 0.98124999999999996,\n",
       " 0.98124999999999996,\n",
       " 0.98124999999999996,\n",
       " 0.98124999999999996,\n",
       " 0.98124999999999996,\n",
       " 0.98124999999999996,\n",
       " 0.98124999999999996,\n",
       " 0.97499999999999998,\n",
       " 0.98124999999999996,\n",
       " 0.96875,\n",
       " 0.96875,\n",
       " 0.96875,\n",
       " 0.96875,\n",
       " 0.96875]"
      ]
     },
     "execution_count": 168,
     "metadata": {},
     "output_type": "execute_result"
    }
   ],
   "source": [
    "Scores"
   ]
  },
  {
   "cell_type": "code",
   "execution_count": 169,
   "metadata": {
    "collapsed": false,
    "deletable": true,
    "editable": true
   },
   "outputs": [
    {
     "data": {
      "text/plain": [
       "[<matplotlib.lines.Line2D at 0x115d2ecc0>]"
      ]
     },
     "execution_count": 169,
     "metadata": {},
     "output_type": "execute_result"
    },
    {
     "data": {
      "image/png": "[encoded data removed]",
      "text/plain": [
       "<matplotlib.figure.Figure at 0x11168e080>"
      ]
     },
     "metadata": {},
     "output_type": "display_data"
    }
   ],
   "source": [
    "%matplotlib inline\n",
    "plt.plot(Scores)"
   ]
  }
 ],
 "metadata": {
  "kernelspec": {
   "display_name": "Python 3",
   "language": "python",
   "name": "python3"
  },
  "language_info": {
   "codemirror_mode": {
    "name": "ipython",
    "version": 3
   },
   "file_extension": ".py",
   "mimetype": "text/x-python",
   "name": "python",
   "nbconvert_exporter": "python",
   "pygments_lexer": "ipython3",
   "version": "3.6.1"
  }
 },
 "nbformat": 4,
 "nbformat_minor": 2
}
